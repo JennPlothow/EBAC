{
  "cells": [
    {
      "cell_type": "markdown",
      "metadata": {
        "id": "KJqp9AANOCtf"
      },
      "source": [
        "<img src=\"https://raw.githubusercontent.com/andre-marcos-perez/ebac-course-utils/main/media/logo/newebac_logo_black_half.png\" alt=\"ebac-logo\">\n",
        "\n",
        "---\n",
        "\n",
        "# **Módulo** | Python: Estruturas de Dados\n",
        "Caderno de **Exercícios**<br> \n",
        "Professor [André Perez](https://www.linkedin.com/in/andremarcosperez/)\n",
        "\n",
        "---"
      ]
    },
    {
      "cell_type": "markdown",
      "metadata": {
        "id": "d9jDtUbDOE1-"
      },
      "source": [
        "# **Tópicos**\n",
        "\n",
        "<ol type=\"1\">\n",
        "  <li>Listas;</li>\n",
        "  <li>Conjuntos;</li>\n",
        "  <li>Dicionários.</li>\n",
        "</ol>"
      ]
    },
    {
      "cell_type": "markdown",
      "metadata": {
        "id": "SmoHgt-lwkpD"
      },
      "source": [
        "---"
      ]
    },
    {
      "cell_type": "markdown",
      "metadata": {
        "id": "GABI6OW8OfQ2"
      },
      "source": [
        "# **Exercícios**"
      ]
    },
    {
      "cell_type": "markdown",
      "metadata": {
        "id": "muD1vxozykSC"
      },
      "source": [
        "## 1\\. Listas"
      ]
    },
    {
      "cell_type": "markdown",
      "metadata": {
        "id": "ahrFfCuBxJKs"
      },
      "source": [
        "Criei uma lista chamada `filmes` com o nome dos 10 primeiros filmes mais bem avaliados no site no [IMDB](https://www.imdb.com/chart/top/). Imprima o resultado."
      ]
    },
    {
      "cell_type": "code",
      "execution_count": null,
      "metadata": {
        "id": "OgL6Hv3bzOHI",
        "vscode": {
          "languageId": "python"
        }
      },
      "outputs": [],
      "source": [
        "filmes = ['Um Sonho de Liberdade', 'O Poderoso Chefão ', 'The Whale', 'O Senhor dos Anéis: O Retorno do Rei', 'O Senhor dos Anéis: A Sociedade do Anel',\n",
        "'Clube da Luta', 'The Fabelmans', 'Sita Ramam','Top Gun: Maverick','Homem-Aranha: Sem Volta para Casa'\n",
        "]\n",
        "print(filmes)"
      ]
    },
    {
      "cell_type": "markdown",
      "metadata": {
        "id": "KI9zQRT2xa7m"
      },
      "source": [
        "Simule a movimentação do *ranking*. Utilize os métodos `insert` e `pop` para trocar a posição do primeiro e do segundo filme da lista. Imprima o resultado.\n",
        "\n"
      ]
    },
    {
      "cell_type": "code",
      "execution_count": null,
      "metadata": {
        "id": "zX3mA3_GzrXH",
        "vscode": {
          "languageId": "python"
        }
      },
      "outputs": [],
      "source": [
        "filmes.pop(0)\n",
        "print(filmes)\n",
        "filmes.insert(1, \"Um Sonho de Liberdade\")\n",
        "print(filmes)"
      ]
    },
    {
      "cell_type": "markdown",
      "metadata": {
        "id": "zMN1Q3jdwoJm"
      },
      "source": [
        "---"
      ]
    },
    {
      "cell_type": "markdown",
      "metadata": {
        "id": "lxa5L6uF0ZJE"
      },
      "source": [
        "## 2\\. Conjuntos"
      ]
    },
    {
      "cell_type": "markdown",
      "metadata": {
        "id": "9JahS2Kj0d5u"
      },
      "source": [
        "Aconteceu um erro no seu *ranking*. Simule a duplicação dos três últimos filmes da lista. Imprima o resultado."
      ]
    },
    {
      "cell_type": "code",
      "execution_count": null,
      "metadata": {
        "id": "BnjnLBNC6PGe",
        "vscode": {
          "languageId": "python"
        }
      },
      "outputs": [],
      "source": [
        "filmes = ['Um Sonho de Liberdade', 'O Poderoso Chefão ', 'The Whale', 'O Senhor dos Anéis: O Retorno do Rei', 'O Senhor dos Anéis: A Sociedade do Anel',\n",
        "'Clube da Luta', 'The Fabelmans', 'Sita Ramam','Sita Ramam', 'Top Gun: Maverick','Top Gun: Maverick', 'Homem-Aranha: Sem Volta para Casa','Homem-Aranha: Sem Volta para Casa'\n",
        "]"
      ]
    },
    {
      "cell_type": "markdown",
      "metadata": {
        "id": "suxTfCJB6ZiX"
      },
      "source": [
        "Utiliza a conversão `set` e `list` para remover os valores duplicados. Imprima o resultado. "
      ]
    },
    {
      "cell_type": "code",
      "execution_count": null,
      "metadata": {
        "id": "ZvUGN-0n6joM",
        "vscode": {
          "languageId": "python"
        }
      },
      "outputs": [],
      "source": [
        "filmes_att=list(set(filmes))\n",
        "print(filmes_att)"
      ]
    },
    {
      "cell_type": "markdown",
      "metadata": {
        "id": "ShkK35eQ6pAM"
      },
      "source": [
        "---"
      ]
    },
    {
      "cell_type": "markdown",
      "metadata": {
        "id": "EL_FzmxL6rTv"
      },
      "source": [
        "## 3\\. Dicionários"
      ]
    },
    {
      "cell_type": "markdown",
      "metadata": {
        "id": "i8l0gFqRCpfT"
      },
      "source": [
        "Repita os exercícios da parte 1 (listas). Os elementos da lista `filmes` devem ser dicionários no seguinte formato: `{'nome': <nome-do-filme>, 'ano': <ano do filme>}, 'sinopse': <sinopse do filme>}`. "
      ]
    },
    {
      "cell_type": "code",
      "execution_count": null,
      "metadata": {
        "id": "tu6MSFwGDnHv",
        "vscode": {
          "languageId": "python"
        }
      },
      "outputs": [],
      "source": [
        "filmes= [{'nome':'Um Sonho de Liberdade', \n",
        "'ano':1994,'sinopse': 'The Batman'\n",
        "},\n",
        "{'nome':'Um Sonho de Liberdade', \n",
        "'ano':2022,'sinopse': 'xxx'},\n",
        "{'nome':'The Whale', \n",
        "'ano':1994, 'sinopse': 'The Batman'},\n",
        "{'nome':'O Senhor dos Anéis: O Retorno do Rei', \n",
        "'ano':2003,'sinopse': 'xxx'},\n",
        "{'nome':'O Senhor dos Anéis: A Sociedade do Anel', \n",
        "'ano':2001,'sinopse': 'Clube da Luta'},\n",
        "{'nome':'The Fabelmans', \n",
        "'ano':2022,'sinopse': 'xxx'},\n",
        "{'nome':'Sita Ramam', \n",
        "'ano':2022,'sinopse': 'xxx'},\n",
        "{'nome':'Top Gun: Maverick', \n",
        "'ano':2022, 'sinopse': 'xxx'}]\n",
        "print(filmes)"
      ]
    }
  ],
  "metadata": {
    "colab": {
      "collapsed_sections": [],
      "name": "module_2_exercise.ipynb",
      "provenance": [],
      "toc_visible": true
    },
    "kernelspec": {
      "display_name": "Python 3",
      "name": "python3"
    }
  },
  "nbformat": 4,
  "nbformat_minor": 0
}
